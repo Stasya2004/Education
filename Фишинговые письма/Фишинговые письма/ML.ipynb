{
 "cells": [
  {
   "cell_type": "code",
   "execution_count": 1,
   "metadata": {
    "ExecuteTime": {
     "end_time": "2024-05-23T15:25:50.666533Z",
     "start_time": "2024-05-23T15:25:41.430922Z"
    },
    "collapsed": false
   },
   "outputs": [
    {
     "name": "stdout",
     "output_type": "stream",
     "text": [
      "Requirement already satisfied: pandas in c:\\users\\nasty\\anaconda3\\lib\\site-packages (2.2.1)\n",
      "Requirement already satisfied: python-dateutil>=2.8.2 in c:\\users\\nasty\\anaconda3\\lib\\site-packages (from pandas) (2.8.2)\n",
      "Requirement already satisfied: tzdata>=2022.7 in c:\\users\\nasty\\anaconda3\\lib\\site-packages (from pandas) (2024.1)\n",
      "Requirement already satisfied: pytz>=2020.1 in c:\\users\\nasty\\anaconda3\\lib\\site-packages (from pandas) (2022.7)\n",
      "Requirement already satisfied: numpy<2,>=1.22.4 in c:\\users\\nasty\\anaconda3\\lib\\site-packages (from pandas) (1.24.3)\n",
      "Requirement already satisfied: six>=1.5 in c:\\users\\nasty\\anaconda3\\lib\\site-packages (from python-dateutil>=2.8.2->pandas) (1.16.0)\n",
      "Requirement already satisfied: matplotlib in c:\\users\\nasty\\anaconda3\\lib\\site-packages (3.8.3)\n",
      "Requirement already satisfied: fonttools>=4.22.0 in c:\\users\\nasty\\anaconda3\\lib\\site-packages (from matplotlib) (4.49.0)\n",
      "Requirement already satisfied: python-dateutil>=2.7 in c:\\users\\nasty\\anaconda3\\lib\\site-packages (from matplotlib) (2.8.2)\n",
      "Requirement already satisfied: cycler>=0.10 in c:\\users\\nasty\\anaconda3\\lib\\site-packages (from matplotlib) (0.12.1)\n",
      "Requirement already satisfied: pillow>=8 in c:\\users\\nasty\\anaconda3\\lib\\site-packages (from matplotlib) (9.4.0)\n",
      "Requirement already satisfied: contourpy>=1.0.1 in c:\\users\\nasty\\anaconda3\\lib\\site-packages (from matplotlib) (1.2.0)\n",
      "Requirement already satisfied: pyparsing>=2.3.1 in c:\\users\\nasty\\anaconda3\\lib\\site-packages (from matplotlib) (3.1.2)\n",
      "Requirement already satisfied: kiwisolver>=1.3.1 in c:\\users\\nasty\\anaconda3\\lib\\site-packages (from matplotlib) (1.4.5)\n",
      "Requirement already satisfied: numpy<2,>=1.21 in c:\\users\\nasty\\anaconda3\\lib\\site-packages (from matplotlib) (1.24.3)\n",
      "Requirement already satisfied: packaging>=20.0 in c:\\users\\nasty\\anaconda3\\lib\\site-packages (from matplotlib) (23.0)\n",
      "Requirement already satisfied: six>=1.5 in c:\\users\\nasty\\anaconda3\\lib\\site-packages (from python-dateutil>=2.7->matplotlib) (1.16.0)\n",
      "Requirement already satisfied: scikit-learn in c:\\users\\nasty\\anaconda3\\lib\\site-packages (1.4.1.post1)\n",
      "Requirement already satisfied: threadpoolctl>=2.0.0 in c:\\users\\nasty\\anaconda3\\lib\\site-packages (from scikit-learn) (3.3.0)\n",
      "Requirement already satisfied: scipy>=1.6.0 in c:\\users\\nasty\\anaconda3\\lib\\site-packages (from scikit-learn) (1.12.0)\n",
      "Requirement already satisfied: numpy<2.0,>=1.19.5 in c:\\users\\nasty\\anaconda3\\lib\\site-packages (from scikit-learn) (1.24.3)\n",
      "Requirement already satisfied: joblib>=1.2.0 in c:\\users\\nasty\\anaconda3\\lib\\site-packages (from scikit-learn) (1.3.2)\n",
      "Requirement already satisfied: seaborn in c:\\users\\nasty\\anaconda3\\lib\\site-packages (0.13.2)\n",
      "Requirement already satisfied: pandas>=1.2 in c:\\users\\nasty\\anaconda3\\lib\\site-packages (from seaborn) (2.2.1)\n",
      "Requirement already satisfied: matplotlib!=3.6.1,>=3.4 in c:\\users\\nasty\\anaconda3\\lib\\site-packages (from seaborn) (3.8.3)\n",
      "Requirement already satisfied: numpy!=1.24.0,>=1.20 in c:\\users\\nasty\\anaconda3\\lib\\site-packages (from seaborn) (1.24.3)\n",
      "Requirement already satisfied: python-dateutil>=2.7 in c:\\users\\nasty\\anaconda3\\lib\\site-packages (from matplotlib!=3.6.1,>=3.4->seaborn) (2.8.2)\n",
      "Requirement already satisfied: pillow>=8 in c:\\users\\nasty\\anaconda3\\lib\\site-packages (from matplotlib!=3.6.1,>=3.4->seaborn) (9.4.0)\n",
      "Requirement already satisfied: pyparsing>=2.3.1 in c:\\users\\nasty\\anaconda3\\lib\\site-packages (from matplotlib!=3.6.1,>=3.4->seaborn) (3.1.2)\n",
      "Requirement already satisfied: cycler>=0.10 in c:\\users\\nasty\\anaconda3\\lib\\site-packages (from matplotlib!=3.6.1,>=3.4->seaborn) (0.12.1)\n",
      "Requirement already satisfied: fonttools>=4.22.0 in c:\\users\\nasty\\anaconda3\\lib\\site-packages (from matplotlib!=3.6.1,>=3.4->seaborn) (4.49.0)\n",
      "Requirement already satisfied: contourpy>=1.0.1 in c:\\users\\nasty\\anaconda3\\lib\\site-packages (from matplotlib!=3.6.1,>=3.4->seaborn) (1.2.0)\n",
      "Requirement already satisfied: kiwisolver>=1.3.1 in c:\\users\\nasty\\anaconda3\\lib\\site-packages (from matplotlib!=3.6.1,>=3.4->seaborn) (1.4.5)\n",
      "Requirement already satisfied: packaging>=20.0 in c:\\users\\nasty\\anaconda3\\lib\\site-packages (from matplotlib!=3.6.1,>=3.4->seaborn) (23.0)\n",
      "Requirement already satisfied: pytz>=2020.1 in c:\\users\\nasty\\anaconda3\\lib\\site-packages (from pandas>=1.2->seaborn) (2022.7)\n",
      "Requirement already satisfied: tzdata>=2022.7 in c:\\users\\nasty\\anaconda3\\lib\\site-packages (from pandas>=1.2->seaborn) (2024.1)\n",
      "Requirement already satisfied: six>=1.5 in c:\\users\\nasty\\anaconda3\\lib\\site-packages (from python-dateutil>=2.7->matplotlib!=3.6.1,>=3.4->seaborn) (1.16.0)\n",
      "Requirement already satisfied: numpy in c:\\users\\nasty\\anaconda3\\lib\\site-packages (1.24.3)\n"
     ]
    }
   ],
   "source": [
    "# Загрузка библиотек\n",
    "!pip install pandas\n",
    "!pip install matplotlib\n",
    "!pip install scikit-learn\n",
    "!pip install seaborn\n",
    "!pip install numpy\n",
    "\n",
    "# Импорт необходимых библиотек\n",
    "from pandas import read_csv\n",
    "import pandas as pd\n",
    "import numpy as np\n",
    "from scipy.sparse import csr_matrix\n",
    "from matplotlib import pyplot as plt\n",
    "from sklearn.metrics import confusion_matrix\n",
    "from sklearn.linear_model import LogisticRegression\n",
    "from sklearn.tree import DecisionTreeClassifier\n",
    "from sklearn.svm import SVC\n",
    "from sklearn.feature_extraction.text import TfidfVectorizer\n",
    "import seaborn as sns\n",
    "#Multinomial Naive Bayes\n",
    "from sklearn.naive_bayes import MultinomialNB\n",
    "#Bernoulli Naive Bayes\n",
    "from sklearn.naive_bayes import BernoulliNB\n",
    "#Gaussian Naive Bayes\n",
    "from sklearn.naive_bayes import GaussianNB\n",
    "from sklearn.model_selection import train_test_split\n",
    "from sklearn.metrics import accuracy_score, precision_score, recall_score, f1_score\n",
    "\n",
    "# Метрики оценки модели\n",
    "# accuracy - точность, измеряет долю правильных предсказаний модели среди всех предсказаний\n",
    "# precision - точность, измеряет долю истинно положительных предсказаний среди всех положительных предсказаний\n",
    "# recall - полнота измеряет долю истинно положительных предсказаний среди всех реальных положительных случаев\n",
    "# f1 - гармоническое среднее между точностью и полнотой."
   ]
  },
  {
   "cell_type": "code",
   "execution_count": 2,
   "metadata": {
    "ExecuteTime": {
     "end_time": "2024-05-23T15:25:50.743860Z",
     "start_time": "2024-05-23T15:25:50.669449Z"
    }
   },
   "outputs": [
    {
     "data": {
      "text/html": [
       "<div>\n",
       "<style scoped>\n",
       "    .dataframe tbody tr th:only-of-type {\n",
       "        vertical-align: middle;\n",
       "    }\n",
       "\n",
       "    .dataframe tbody tr th {\n",
       "        vertical-align: top;\n",
       "    }\n",
       "\n",
       "    .dataframe thead th {\n",
       "        text-align: right;\n",
       "    }\n",
       "</style>\n",
       "<table border=\"1\" class=\"dataframe\">\n",
       "  <thead>\n",
       "    <tr style=\"text-align: right;\">\n",
       "      <th></th>\n",
       "      <th>email</th>\n",
       "      <th>label</th>\n",
       "    </tr>\n",
       "  </thead>\n",
       "  <tbody>\n",
       "    <tr>\n",
       "      <th>0</th>\n",
       "      <td>date wed NUMBER aug NUMBER NUMBER NUMBER NUMB...</td>\n",
       "      <td>0</td>\n",
       "    </tr>\n",
       "    <tr>\n",
       "      <th>1</th>\n",
       "      <td>martin a posted tassos papadopoulos the greek ...</td>\n",
       "      <td>0</td>\n",
       "    </tr>\n",
       "    <tr>\n",
       "      <th>2</th>\n",
       "      <td>man threatens explosion in moscow thursday aug...</td>\n",
       "      <td>0</td>\n",
       "    </tr>\n",
       "    <tr>\n",
       "      <th>3</th>\n",
       "      <td>klez the virus that won t die already the most...</td>\n",
       "      <td>0</td>\n",
       "    </tr>\n",
       "    <tr>\n",
       "      <th>4</th>\n",
       "      <td>in adding cream to spaghetti carbonara which ...</td>\n",
       "      <td>0</td>\n",
       "    </tr>\n",
       "  </tbody>\n",
       "</table>\n",
       "</div>"
      ],
      "text/plain": [
       "                                               email  label\n",
       "0   date wed NUMBER aug NUMBER NUMBER NUMBER NUMB...      0\n",
       "1  martin a posted tassos papadopoulos the greek ...      0\n",
       "2  man threatens explosion in moscow thursday aug...      0\n",
       "3  klez the virus that won t die already the most...      0\n",
       "4   in adding cream to spaghetti carbonara which ...      0"
      ]
     },
     "execution_count": 2,
     "metadata": {},
     "output_type": "execute_result"
    }
   ],
   "source": [
    "# Загрузка датасета\n",
    "\n",
    "url = \"data\\spam_or_not_spam.csv\"\n",
    "\n",
    "data = read_csv(url)\n",
    "\n",
    "data.head()"
   ]
  },
  {
   "cell_type": "markdown",
   "metadata": {},
   "source": [
    "# Анализ данных"
   ]
  },
  {
   "cell_type": "code",
   "execution_count": 3,
   "metadata": {
    "ExecuteTime": {
     "end_time": "2024-05-23T15:25:50.758811Z",
     "start_time": "2024-05-23T15:25:50.745853Z"
    },
    "collapsed": false
   },
   "outputs": [],
   "source": [
    "#count (количество): Количество непустых значений в столбце.\n",
    "#mean (среднее): Среднее значение.\n",
    "#std (стандартное отклонение): Стандартное отклонение, которое измеряет разброс значений от среднего значения. Оно показывает, насколько значения в столбце \n",
    "# варьируются.\n",
    "#min (минимум): Минимальное значение в столбце.\n",
    "#25% (первый квартиль): Значение, ниже которого попадает 25% данных (нижний квартиль).\n",
    "#50% (медиана): Медианное значение, которое разделяет данные на две равные половины.\n",
    "#75% (третий квартиль): Значение, ниже которого попадает 75% данных (верхний квартиль).\n",
    "#max (максимум): Максимальное значение в столбце."
   ]
  },
  {
   "cell_type": "code",
   "execution_count": 4,
   "metadata": {
    "ExecuteTime": {
     "end_time": "2024-05-23T15:25:50.789999Z",
     "start_time": "2024-05-23T15:25:50.761800Z"
    }
   },
   "outputs": [
    {
     "data": {
      "text/html": [
       "<div>\n",
       "<style scoped>\n",
       "    .dataframe tbody tr th:only-of-type {\n",
       "        vertical-align: middle;\n",
       "    }\n",
       "\n",
       "    .dataframe tbody tr th {\n",
       "        vertical-align: top;\n",
       "    }\n",
       "\n",
       "    .dataframe thead th {\n",
       "        text-align: right;\n",
       "    }\n",
       "</style>\n",
       "<table border=\"1\" class=\"dataframe\">\n",
       "  <thead>\n",
       "    <tr style=\"text-align: right;\">\n",
       "      <th></th>\n",
       "      <th>label</th>\n",
       "    </tr>\n",
       "  </thead>\n",
       "  <tbody>\n",
       "    <tr>\n",
       "      <th>count</th>\n",
       "      <td>3000.000000</td>\n",
       "    </tr>\n",
       "    <tr>\n",
       "      <th>mean</th>\n",
       "      <td>0.166667</td>\n",
       "    </tr>\n",
       "    <tr>\n",
       "      <th>std</th>\n",
       "      <td>0.372740</td>\n",
       "    </tr>\n",
       "    <tr>\n",
       "      <th>min</th>\n",
       "      <td>0.000000</td>\n",
       "    </tr>\n",
       "    <tr>\n",
       "      <th>25%</th>\n",
       "      <td>0.000000</td>\n",
       "    </tr>\n",
       "    <tr>\n",
       "      <th>50%</th>\n",
       "      <td>0.000000</td>\n",
       "    </tr>\n",
       "    <tr>\n",
       "      <th>75%</th>\n",
       "      <td>0.000000</td>\n",
       "    </tr>\n",
       "    <tr>\n",
       "      <th>max</th>\n",
       "      <td>1.000000</td>\n",
       "    </tr>\n",
       "  </tbody>\n",
       "</table>\n",
       "</div>"
      ],
      "text/plain": [
       "             label\n",
       "count  3000.000000\n",
       "mean      0.166667\n",
       "std       0.372740\n",
       "min       0.000000\n",
       "25%       0.000000\n",
       "50%       0.000000\n",
       "75%       0.000000\n",
       "max       1.000000"
      ]
     },
     "execution_count": 4,
     "metadata": {},
     "output_type": "execute_result"
    }
   ],
   "source": [
    "data.describe()"
   ]
  },
  {
   "cell_type": "code",
   "execution_count": 5,
   "metadata": {
    "ExecuteTime": {
     "end_time": "2024-05-23T15:25:50.805545Z",
     "start_time": "2024-05-23T15:25:50.791506Z"
    },
    "collapsed": false
   },
   "outputs": [
    {
     "name": "stdout",
     "output_type": "stream",
     "text": [
      "<class 'pandas.core.frame.DataFrame'>\n",
      "RangeIndex: 3000 entries, 0 to 2999\n",
      "Data columns (total 2 columns):\n",
      " #   Column  Non-Null Count  Dtype \n",
      "---  ------  --------------  ----- \n",
      " 0   email   2999 non-null   object\n",
      " 1   label   3000 non-null   int64 \n",
      "dtypes: int64(1), object(1)\n",
      "memory usage: 47.0+ KB\n"
     ]
    }
   ],
   "source": [
    "data.info()"
   ]
  },
  {
   "cell_type": "code",
   "execution_count": 6,
   "metadata": {
    "ExecuteTime": {
     "end_time": "2024-05-23T15:25:50.821078Z",
     "start_time": "2024-05-23T15:25:50.806600Z"
    }
   },
   "outputs": [
    {
     "name": "stdout",
     "output_type": "stream",
     "text": [
      "<class 'pandas.core.frame.DataFrame'>\n",
      "Index: 2793 entries, 0 to 2999\n",
      "Data columns (total 2 columns):\n",
      " #   Column  Non-Null Count  Dtype \n",
      "---  ------  --------------  ----- \n",
      " 0   email   2793 non-null   object\n",
      " 1   label   2793 non-null   int64 \n",
      "dtypes: int64(1), object(1)\n",
      "memory usage: 65.5+ KB\n"
     ]
    }
   ],
   "source": [
    "#Удаляем пустые строки\n",
    "df = data.dropna() \n",
    "\n",
    "#Удаляем повторяющиеся строки\n",
    "idx = df.loc[df.duplicated(subset=['email'], keep=False)].index\n",
    "data1 = df.drop(idx)\n",
    "\n",
    "data1.info()"
   ]
  },
  {
   "cell_type": "code",
   "execution_count": 7,
   "metadata": {
    "ExecuteTime": {
     "end_time": "2024-05-23T15:25:50.836521Z",
     "start_time": "2024-05-23T15:25:50.822213Z"
    },
    "collapsed": false
   },
   "outputs": [
    {
     "name": "stdout",
     "output_type": "stream",
     "text": [
      "                                                  email  label\n",
      "2493  tim chapman writes URL wednesday NUMBER decemb...      0\n",
      "2494   i had the same problem when installing win on...      0\n",
      "2495  man killed trying to surf on tube train ananov...      0\n",
      "2496  hi gianni a very good resource for this is URL...      0\n",
      "2497  gianni ponzi wrote i have a prob when trying t...      0\n",
      "2498  neale pickett neale woozle org writes skip mon...      0\n",
      "2499   hi i think you need to give us a little more ...      0\n",
      "2500   save up to NUMBER on life insurance why spend...      1\n",
      "2503   adult club offers free membership instant acc...      1\n",
      "2504  i thought you might like these NUMBER slim dow...      1\n",
      "2505  a powerhouse gifting program you don t want to...      1\n",
      "2506  help wanted we are a NUMBER year old fortune N...      1\n"
     ]
    }
   ],
   "source": [
    "# Находим индекс середины таблицы\n",
    "middle_index = len(data1) - 380\n",
    "\n",
    "# Указываем количество строк для вывода\n",
    "num_rows = 12\n",
    "\n",
    "text = data1.iloc[middle_index - num_rows // 2 : middle_index + num_rows // 2]\n",
    "\n",
    "# Выводим строки из середины таблицы с указанным периодом\n",
    "print(text)"
   ]
  },
  {
   "cell_type": "code",
   "execution_count": 8,
   "metadata": {
    "ExecuteTime": {
     "end_time": "2024-05-23T15:25:50.852481Z",
     "start_time": "2024-05-23T15:25:50.838516Z"
    },
    "collapsed": false
   },
   "outputs": [
    {
     "name": "stdout",
     "output_type": "stream",
     "text": [
      "Количество строк со значением '1' в столбце 'B': 379\n"
     ]
    }
   ],
   "source": [
    "# Значение, которое мы ищем\n",
    "target_value = 1\n",
    "\n",
    "# Считаем количество строк, где значение в столбце 'B' равно target_value\n",
    "count = (data1['label'] == target_value).sum()\n",
    "\n",
    "print(\"Количество строк со значением '{}' в столбце 'B': {}\".format(target_value, count))"
   ]
  },
  {
   "cell_type": "code",
   "execution_count": 9,
   "metadata": {
    "ExecuteTime": {
     "end_time": "2024-05-23T15:25:51.301955Z",
     "start_time": "2024-05-23T15:25:50.853465Z"
    },
    "collapsed": false
   },
   "outputs": [],
   "source": [
    "#Обработка текста\n",
    "vectorizer = TfidfVectorizer(stop_words='english', lowercase=True)\n",
    "X = vectorizer.fit_transform(data1['email'])\n",
    "y = data1['label']"
   ]
  },
  {
   "cell_type": "code",
   "execution_count": 10,
   "metadata": {
    "ExecuteTime": {
     "end_time": "2024-05-23T15:26:13.386653Z",
     "start_time": "2024-05-23T15:25:51.306249Z"
    },
    "collapsed": false
   },
   "outputs": [
    {
     "name": "stdout",
     "output_type": "stream",
     "text": [
      "     Номера письма и номер слова  Значение TF-IDF       Слово\n",
      "2495                    29_21363         0.042615          pc\n",
      "2496                    29_21415         0.069072       peats\n",
      "2497                    29_21757         0.052764  physically\n",
      "2498                    29_21770         0.040568        pick\n",
      "2499                    29_21962         0.075698        play\n",
      "2500                    29_22069         0.052186     pnumber\n",
      "2501                    29_23724         0.030648        read\n",
      "2502                    29_23733         0.037359     reading\n",
      "2503                    29_23834         0.036630    recently\n",
      "2504                    29_23943         0.039644      redhat\n",
      "2505                    29_24430         0.065674       reran\n",
      "2506                    29_25169         0.091562     running\n"
     ]
    }
   ],
   "source": [
    "# Получение словаря слов\n",
    "feature_names = vectorizer.get_feature_names_out()\n",
    "\n",
    "# Преобразование разреженной матрицы в плотный формат\n",
    "dense_X = X.toarray()\n",
    "\n",
    "# Создание DataFrame с тремя колонками: Номер письма, Номер слова, Значение TF-IDF\n",
    "rows = []\n",
    "for i in range(dense_X.shape[0]):\n",
    "    for j in range(dense_X.shape[1]):\n",
    "        if dense_X[i, j] > 0:  # Сохраняем только ненулевые значения\n",
    "            rows.append({\"Номер письма\": i, \"Номер слова\": j, \"Значение TF-IDF\": dense_X[i, j], \"Слово\": feature_names[j]})\n",
    "\n",
    "results_dfX = pd.DataFrame(rows)\n",
    "\n",
    "# Добавление колонки 'Номер письма и слова'\n",
    "results_dfX['Номера письма и номер слова'] = results_dfX.apply(lambda row: f\"{row['Номер письма']}_{row['Номер слова']}\", axis=1)\n",
    "\n",
    "# Переупорядочение колонок\n",
    "results_dfX = results_dfX[['Номера письма и номер слова', 'Значение TF-IDF', 'Слово']]\n",
    "\n",
    "\n",
    "# Выбор строк по индексу\n",
    "selected_rows_by_index = results_dfX.iloc[[2495, 2496, 2497, 2498, 2499, 2500, 2501, 2502, 2503, 2504, 2505, 2506]]\n",
    "print(selected_rows_by_index)\n"
   ]
  },
  {
   "cell_type": "code",
   "execution_count": 27,
   "metadata": {},
   "outputs": [
    {
     "name": "stdout",
     "output_type": "stream",
     "text": [
      "[[0.         0.         0.13910118 ... 0.         0.         0.        ]\n",
      " [0.         0.         0.         ... 0.         0.         0.        ]\n",
      " [0.         0.         0.         ... 0.         0.         0.        ]\n",
      " [0.         0.         0.         ... 0.         0.         0.        ]\n",
      " [0.         0.         0.         ... 0.         0.         0.        ]]\n"
     ]
    }
   ],
   "source": [
    "# Преобразование разреженной матрицы в плотную\n",
    "X_dense = X.todense()\n",
    "\n",
    "# Определение количества строк для вывода\n",
    "n_rows_to_show = 5\n",
    "\n",
    "# Определение индексов для выборки строк из середины\n",
    "start_index = (X_dense.shape[0] - n_rows_to_show) // 2\n",
    "end_index = start_index + n_rows_to_show\n",
    "\n",
    "# Вывод выбранных строк\n",
    "print(X_dense[start_index:end_index, :])\n"
   ]
  },
  {
   "cell_type": "code",
   "execution_count": 12,
   "metadata": {
    "ExecuteTime": {
     "end_time": "2024-05-23T15:26:13.417976Z",
     "start_time": "2024-05-23T15:26:13.389599Z"
    }
   },
   "outputs": [],
   "source": [
    "#Выборка на тестовые и обучающие  части\n",
    "X_train, X_test, y_train, y_test = train_test_split(X, y, test_size=0.2)\n",
    "X_train_80, X_test_80, y_train_80, y_test_80 = train_test_split(X, y, test_size=0.8)\n",
    "X_train_50, X_test_50, y_train_50, y_test_50 = train_test_split(X, y, test_size=0.5)"
   ]
  },
  {
   "cell_type": "markdown",
   "metadata": {
    "ExecuteTime": {
     "end_time": "2024-05-15T17:38:31.500016Z",
     "start_time": "2024-05-15T17:38:31.471462Z"
    }
   },
   "source": [
    "# Создание модели с помощью Дерева принятия решений"
   ]
  },
  {
   "cell_type": "code",
   "execution_count": 13,
   "metadata": {
    "ExecuteTime": {
     "end_time": "2024-05-23T15:26:14.068350Z",
     "start_time": "2024-05-23T15:26:13.419972Z"
    }
   },
   "outputs": [],
   "source": [
    "# Создание модели с выбранным алгоритмом\n",
    "model = DecisionTreeClassifier()\n",
    "\n",
    "# Обучение модели\n",
    "model.fit(X_train, y_train)\n",
    "\n",
    "# Предсказание на тестовой выборке\n",
    "y_pred = model.predict(X_test)\n",
    "\n",
    "# Оценка производительности модели с помощью выбранных метрик\n",
    "accuracy = accuracy_score(y_test, y_pred)"
   ]
  },
  {
   "cell_type": "markdown",
   "metadata": {
    "ExecuteTime": {
     "end_time": "2024-05-15T18:29:06.186610Z",
     "start_time": "2024-05-15T18:29:04.590028Z"
    }
   },
   "source": [
    "# Создание модели логистической регрессии"
   ]
  },
  {
   "cell_type": "code",
   "execution_count": 14,
   "metadata": {
    "ExecuteTime": {
     "end_time": "2024-05-23T15:26:14.160327Z",
     "start_time": "2024-05-23T15:26:14.069428Z"
    }
   },
   "outputs": [],
   "source": [
    "# Создание модели логистической регрессии\n",
    "logistic_model = LogisticRegression()\n",
    "\n",
    "# Обучение модели логистической регрессии на обучающих данных\n",
    "logistic_model.fit(X_train, y_train)\n",
    "\n",
    "# Предсказание на тестовых данных\n",
    "y_pred_logistic = logistic_model.predict(X_test)\n",
    "\n",
    "# Оценка производительности модели логистической регрессии\n",
    "accuracy_logistic = accuracy_score(y_test, y_pred_logistic)"
   ]
  },
  {
   "cell_type": "markdown",
   "metadata": {
    "ExecuteTime": {
     "end_time": "2024-05-15T18:23:03.789361Z",
     "start_time": "2024-05-15T18:23:03.775425Z"
    }
   },
   "source": [
    "# Метод SVM"
   ]
  },
  {
   "cell_type": "code",
   "execution_count": 15,
   "metadata": {
    "ExecuteTime": {
     "end_time": "2024-05-23T15:26:15.493239Z",
     "start_time": "2024-05-23T15:26:14.161327Z"
    }
   },
   "outputs": [],
   "source": [
    "# Создание модели SVM\n",
    "svm_model = SVC(kernel='linear')  # Линейное ядро\n",
    "\n",
    "# Обучение модели SVM на обучающих данных\n",
    "svm_model.fit(X_train, y_train)\n",
    "\n",
    "# Предсказание на тестовых данных\n",
    "y_pred_svm = svm_model.predict(X_test)\n",
    "\n",
    "# Оценка производительности модели SVM\n",
    "accuracy_svm = accuracy_score(y_test, y_pred_svm)"
   ]
  },
  {
   "cell_type": "markdown",
   "metadata": {},
   "source": [
    "# Naive Bayes"
   ]
  },
  {
   "cell_type": "code",
   "execution_count": 16,
   "metadata": {
    "ExecuteTime": {
     "end_time": "2024-05-23T15:26:21.832467Z",
     "start_time": "2024-05-23T15:26:15.494255Z"
    }
   },
   "outputs": [],
   "source": [
    "# 20% на тестирование\n",
    "X_train_dense = X_train.toarray()\n",
    "X_test_dense = X_test.toarray()\n",
    "\n",
    "naive_bayes_model_gaussian = GaussianNB()\n",
    "\n",
    "naive_bayes_model_gaussian.fit(X_train_dense, y_train)\n",
    "\n",
    "y_pred_naive_bayes_gaussian = naive_bayes_model_gaussian.predict(X_test_dense)\n",
    "\n",
    "accuracy_gaussian = accuracy_score(y_test, y_pred_naive_bayes_gaussian)\n",
    "precision_gaussian = precision_score(y_test, y_pred_naive_bayes_gaussian)\n",
    "recall_gaussian = recall_score(y_test, y_pred_naive_bayes_gaussian)\n",
    "f1_gaussian = f1_score(y_test, y_pred_naive_bayes_gaussian)\n",
    "\n",
    "# 50% на тестирование\n",
    "X_train_dense_50 = X_train_50.toarray()\n",
    "X_test_dense_50 = X_test_50.toarray()\n",
    "\n",
    "naive_bayes_model_gaussian.fit(X_train_dense_50, y_train_50)\n",
    "\n",
    "y_pred_naive_bayes_gaussian_50 = naive_bayes_model_gaussian.predict(X_test_dense_50)\n",
    "\n",
    "accuracy_gaussian_50 = accuracy_score(y_test_50, y_pred_naive_bayes_gaussian_50)\n",
    "precision_gaussian_50 = precision_score(y_test_50, y_pred_naive_bayes_gaussian_50)\n",
    "recall_gaussian_50 = recall_score(y_test_50, y_pred_naive_bayes_gaussian_50)\n",
    "f1_gaussian_50 = f1_score(y_test_50, y_pred_naive_bayes_gaussian_50)\n",
    "\n",
    "# 80% на тестирование\n",
    "X_train_dense_80 = X_train_80.toarray()\n",
    "X_test_dense_80 = X_test_80.toarray()\n",
    "\n",
    "naive_bayes_model_gaussian.fit(X_train_dense_80, y_train_80)\n",
    "\n",
    "y_pred_naive_bayes_gaussian_80 = naive_bayes_model_gaussian.predict(X_test_dense_80)\n",
    "\n",
    "accuracy_gaussian_80 = accuracy_score(y_test_80, y_pred_naive_bayes_gaussian_80)\n",
    "precision_gaussian_80 = precision_score(y_test_80, y_pred_naive_bayes_gaussian_80)\n",
    "recall_gaussian_80 = recall_score(y_test_80, y_pred_naive_bayes_gaussian_80)\n",
    "f1_gaussian_80 = f1_score(y_test_80, y_pred_naive_bayes_gaussian_80)\n",
    "\n",
    "# Создание модели Multinomial Naive Bayes \n",
    "naive_bayes_model_multinomial = MultinomialNB()\n",
    "\n",
    "naive_bayes_model_multinomial.fit(X_train_dense, y_train)\n",
    "\n",
    "y_pred_naive_bayes_multinomial = naive_bayes_model_multinomial.predict(X_test_dense)\n",
    "\n",
    "accuracy_multinomial = accuracy_score(y_test, y_pred_naive_bayes_multinomial)\n",
    "precision_multinomial = precision_score(y_test, y_pred_naive_bayes_multinomial)\n",
    "recall_multinomial = recall_score(y_test, y_pred_naive_bayes_multinomial)\n",
    "f1_multinomial = f1_score(y_test, y_pred_naive_bayes_multinomial)\n",
    "\n",
    "# Создание модели Multinomial Naive Bayes с настройкой параметра сглаживания alpha\n",
    "naive_bayes_model_multinomial_alpha = MultinomialNB( alpha=0.1 )\n",
    "\n",
    "naive_bayes_model_multinomial_alpha.fit(X_train_dense, y_train)\n",
    "\n",
    "y_pred_naive_bayes_multinomial_alpha = naive_bayes_model_multinomial_alpha.predict(X_test_dense)\n",
    "\n",
    "accuracy_multinomial_alpha = accuracy_score(y_test, y_pred_naive_bayes_multinomial_alpha)\n",
    "precision_multinomial_alpha = precision_score(y_test, y_pred_naive_bayes_multinomial_alpha)\n",
    "recall_multinomial_alpha = recall_score(y_test, y_pred_naive_bayes_multinomial_alpha)\n",
    "f1_multinomial_alpha = f1_score(y_test, y_pred_naive_bayes_multinomial_alpha)\n",
    "\n",
    "# Создание модели Бернолли наивного байесовского классификатора\n",
    "naive_bayes_model_bernoulli = BernoulliNB()\n",
    "\n",
    "naive_bayes_model_bernoulli.fit(X_train_dense, y_train)\n",
    "\n",
    "y_pred_naive_bayes_bernoulli = naive_bayes_model_bernoulli.predict(X_test_dense)\n",
    "\n",
    "accuracy_bernoulli = accuracy_score(y_test, y_pred_naive_bayes_bernoulli)\n",
    "precision_bernoulli = precision_score(y_test, y_pred_naive_bayes_bernoulli)\n",
    "recall_bernoulli = recall_score(y_test, y_pred_naive_bayes_bernoulli)\n",
    "f1_bernoulli = f1_score(y_test, y_pred_naive_bayes_bernoulli)\n",
    "\n",
    "\n",
    "# Вычисление матрицы ошибок Гауссовский\n",
    "cm_naive_bayes = confusion_matrix(y_pred_naive_bayes_gaussian, y_test)\n",
    "\n",
    "FP_naive_bayes = cm_naive_bayes[0, 1]\n",
    "TP_naive_bayes = cm_naive_bayes[1, 1]\n",
    "TN_naive_bayes = cm_naive_bayes[0, 0]\n",
    "FN_naive_bayes = cm_naive_bayes[1, 0]\n",
    "\n",
    "# Вычисление precision\n",
    "precision1_naive_bayes = TP_naive_bayes / (TP_naive_bayes + FP_naive_bayes)\n",
    "precision0_naive_bayes = TN_naive_bayes / (TN_naive_bayes + FN_naive_bayes)\n",
    "\n",
    "# Вычисление recall\n",
    "recall1_naive_bayes = TP_naive_bayes / (TP_naive_bayes + FN_naive_bayes)\n",
    "recall0_naive_bayes = TN_naive_bayes / (TN_naive_bayes + FP_naive_bayes)\n",
    "\n",
    "# Вычисление f1\n",
    "f11_naive_bayes = 2 * precision1_naive_bayes * recall1_naive_bayes / (precision1_naive_bayes + recall1_naive_bayes)\n",
    "f10_naive_bayes =  2 * precision0_naive_bayes * recall0_naive_bayes / (precision0_naive_bayes + recall0_naive_bayes)\n",
    "\n",
    "# Вычисление матрицы ошибок Мультиноминальный\n",
    "cm_multinomial = confusion_matrix(y_pred_naive_bayes_multinomial, y_test)\n",
    "\n",
    "FP_multinomial = cm_multinomial[0, 1]\n",
    "TP_multinomial = cm_multinomial[1, 1]\n",
    "TN_multinomial = cm_multinomial[0, 0]\n",
    "FN_multinomial = cm_multinomial[1, 0]\n",
    "\n",
    "# Вычисление precision\n",
    "precision1_multinomial = TP_multinomial / (TP_multinomial + FP_multinomial)\n",
    "precision0_multinomial = TN_multinomial / (TN_multinomial + FN_multinomial)\n",
    "\n",
    "# Вычисление recall\n",
    "recall1_multinomial = TP_multinomial / (TP_multinomial + FN_multinomial)\n",
    "recall0_multinomial = TN_multinomial / (TN_multinomial + FP_multinomial)\n",
    "\n",
    "# Вычисление f1\n",
    "f11_multinomial = 2 * precision1_multinomial * recall1_multinomial / (precision1_multinomial + recall1_multinomial)\n",
    "f10_multinomial =  2 * precision0_multinomial * recall0_multinomial / (precision0_multinomial + recall0_multinomial)\n",
    "\n",
    "# Вычисление матрицы ошибок Мультиноминальный улучшенный\n",
    "cm_alpha = confusion_matrix(y_pred_naive_bayes_multinomial_alpha, y_test)\n",
    "\n",
    "FP_alpha = cm_alpha[0, 1]\n",
    "TP_alpha = cm_alpha[1, 1]\n",
    "TN_alpha = cm_alpha[0, 0]\n",
    "FN_alpha = cm_alpha[1, 0]\n",
    "\n",
    "# Вычисление precision\n",
    "precision1_alpha = TP_alpha / (TP_alpha + FP_alpha)\n",
    "precision0_alpha = TN_alpha / (TN_alpha + FN_alpha)\n",
    "\n",
    "# Вычисление recall\n",
    "recall1_alpha = TP_alpha / (TP_alpha + FN_alpha)\n",
    "recall0_alpha = TN_alpha / (TN_alpha + FP_alpha)\n",
    "\n",
    "# Вычисление f1\n",
    "f11_alpha = 2 * precision1_alpha * recall1_alpha / (precision1_alpha + recall1_alpha)\n",
    "f10_alpha =  2 * precision0_alpha * recall0_alpha / (precision0_alpha + recall0_alpha)\n",
    "\n",
    "# Вычисление матрицы ошибок Бернулли\n",
    "cm_bernoulli = confusion_matrix(y_pred_naive_bayes_bernoulli, y_test)\n",
    "\n",
    "FP_bernoulli = cm_bernoulli[0, 1]\n",
    "TP_bernoulli = cm_bernoulli[1, 1]\n",
    "TN_bernoulli = cm_bernoulli[0, 0]\n",
    "FN_bernoulli = cm_bernoulli[1, 0]\n",
    "\n",
    "# Вычисление precision\n",
    "precision1_bernoulli = TP_bernoulli / (TP_bernoulli + FP_bernoulli)\n",
    "precision0_bernoulli = TN_bernoulli / (TN_bernoulli + FN_bernoulli)\n",
    "\n",
    "# Вычисление recall\n",
    "recall1_bernoulli = TP_bernoulli / (TP_bernoulli + FN_bernoulli)\n",
    "recall0_bernoulli = TN_bernoulli / (TN_bernoulli + FP_bernoulli)\n",
    "\n",
    "# Вычисление f1\n",
    "f11_bernoulli = 2 * precision1_bernoulli * recall1_bernoulli / (precision1_bernoulli + recall1_bernoulli)\n",
    "f10_bernoulli =  2 * precision0_bernoulli * recall0_bernoulli / (precision0_bernoulli + recall0_bernoulli)\n",
    "\n",
    "\n",
    "cm_50 = confusion_matrix(y_pred_naive_bayes_gaussian_50, y_test_50)\n",
    "\n",
    "FP_50 = cm_50[0, 1]\n",
    "TP_50 = cm_50[1, 1]\n",
    "TN_50 = cm_50[0, 0]\n",
    "FN_50 = cm_50[1, 0]\n",
    "\n",
    "# Вычисление precision\n",
    "precision1_50 = TP_50 / (TP_50 + FP_50)\n",
    "precision0_50 = TN_50 / (TN_50 + FN_50)\n",
    "\n",
    "# Вычисление recall\n",
    "recall1_50 = TP_50 / (TP_50 + FN_50)\n",
    "recall0_50 = TN_50 / (TN_50 + FP_50)\n",
    "\n",
    "# Вычисление f1\n",
    "f11_50 = 2 * precision1_50 * recall1_50 / (precision1_50 + recall1_50)\n",
    "f10_50 =  2 * precision0_50 * recall0_50 / (precision0_50 + recall0_50)\n",
    "\n",
    "cm_80 = confusion_matrix(y_pred_naive_bayes_gaussian_80, y_test_80)\n",
    "\n",
    "FP_80 = cm_80[0, 1]\n",
    "TP_80 = cm_80[1, 1]\n",
    "TN_80 = cm_80[0, 0]\n",
    "FN_80 = cm_80[1, 0]\n",
    "\n",
    "# Вычисление precision\n",
    "precision1_80 = TP_80 / (TP_80 + FP_80)\n",
    "precision0_80 = TN_80 / (TN_80 + FN_80)\n",
    "\n",
    "# Вычисление recall\n",
    "recall1_80 = TP_80 / (TP_80 + FN_80)\n",
    "recall0_80 = TN_80 / (TN_80 + FP_80)\n",
    "\n",
    "# Вычисление f1\n",
    "f11_80 = 2 * precision1_80 * recall1_80 / (precision1_80 + recall1_80)\n",
    "f10_80 =  2 * precision0_80 * recall0_80 / (precision0_80 + recall0_80)\n"
   ]
  },
  {
   "cell_type": "code",
   "execution_count": 17,
   "metadata": {
    "ExecuteTime": {
     "end_time": "2024-05-23T15:26:21.862885Z",
     "start_time": "2024-05-23T15:26:21.833375Z"
    }
   },
   "outputs": [
    {
     "name": "stdout",
     "output_type": "stream",
     "text": [
      "         Метод Accuracy Precision_1 Precision_0 Recall_1 Recall_0  F1_1  F1_0\n",
      "0  Multinomial     0.91        0.25        1.00     1.00     0.91  0.40  0.95\n",
      "2    Bernoulli     0.89        0.29        0.98     0.65     0.91  0.40  0.94\n",
      "3     Gaussian     0.92        0.60        0.97     0.73     0.95  0.66  0.96\n",
      "\n",
      "17.04.2024 21:52\n"
     ]
    }
   ],
   "source": [
    "results_df = pd.DataFrame(columns=['Метод', 'Accuracy', 'Precision_1', 'Precision_0', 'Recall_1', 'Recall_0', 'F1_1', 'F1_0'])\n",
    "\n",
    "results_df.loc[0] = ['Multinomial', \"{:.2f}\".format(accuracy_multinomial), \"{:.2f}\".format(precision1_multinomial), \"{:.2f}\".format(precision0_multinomial), \"{:.2f}\".format(recall1_multinomial), \"{:.2f}\".format(recall0_multinomial), \"{:.2f}\".format(f11_multinomial), \"{:.2f}\".format(f10_multinomial)]\n",
    "#results_df.loc[1] = ['Multinomial_alpha', \"{:.2f}\".format(accuracy_multinomial_alpha), \"{:.2f}\".format(precision1_alpha), \"{:.2f}\".format(precision0_alpha), \"{:.2f}\".format(recall1_alpha), \"{:.2f}\".format(recall0_alpha), \"{:.2f}\".format(f11_alpha), \"{:.2f}\".format(f10_alpha)]\n",
    "results_df.loc[2] = ['Bernoulli', \"{:.2f}\".format(accuracy_bernoulli), \"{:.2f}\".format(precision1_bernoulli), \"{:.2f}\".format(precision0_bernoulli), \"{:.2f}\".format(recall1_bernoulli), \"{:.2f}\".format(recall0_bernoulli), \"{:.2f}\".format(f11_bernoulli), \"{:.2f}\".format(f10_bernoulli)]\n",
    "results_df.loc[3] = ['Gaussian', \"{:.2f}\".format(accuracy_gaussian), \"{:.2f}\".format(precision1_naive_bayes), \"{:.2f}\".format(precision0_naive_bayes), \"{:.2f}\".format(recall1_naive_bayes), \"{:.2f}\".format(recall0_naive_bayes), \"{:.2f}\".format(f11_naive_bayes), \"{:.2f}\".format(f10_naive_bayes)]\n",
    "\n",
    "# Выводим результаты\n",
    "print(results_df)\n",
    "\n",
    "print(\"\")\n",
    "print(\"17.04.2024 21:52\")"
   ]
  },
  {
   "cell_type": "code",
   "execution_count": 18,
   "metadata": {
    "ExecuteTime": {
     "end_time": "2024-05-23T15:26:21.893476Z",
     "start_time": "2024-05-23T15:26:21.864889Z"
    },
    "collapsed": false
   },
   "outputs": [
    {
     "name": "stdout",
     "output_type": "stream",
     "text": [
      "  Проценты на тестовую часть Accuracy Precision_1 Precision_0 Recall_1  \\\n",
      "0        20% на тестирование     0.92        0.60        0.97     0.73   \n",
      "1        50% на тестирование     0.94        0.62        0.99     0.92   \n",
      "2        80% на тестирование     0.94        0.60        0.99     0.90   \n",
      "\n",
      "  Recall_0  F1_1  F1_0  \n",
      "0     0.95  0.66  0.96  \n",
      "1     0.94  0.75  0.97  \n",
      "2     0.94  0.72  0.96  \n",
      "\n",
      "17.04.2024 23:22\n"
     ]
    }
   ],
   "source": [
    "results_df = pd.DataFrame(columns=['Проценты на тестовую часть', 'Accuracy', 'Precision_1', 'Precision_0', 'Recall_1', 'Recall_0', 'F1_1', 'F1_0'])\n",
    "\n",
    "results_df.loc[0] = ['20% на тестирование', \"{:.2f}\".format(accuracy_gaussian), \"{:.2f}\".format(precision1_naive_bayes), \"{:.2f}\".format(precision0_naive_bayes), \"{:.2f}\".format(recall1_naive_bayes), \"{:.2f}\".format(recall0_naive_bayes), \"{:.2f}\".format(f11_naive_bayes), \"{:.2f}\".format(f10_naive_bayes)]\n",
    "results_df.loc[1] = ['50% на тестирование', \"{:.2f}\".format(accuracy_gaussian_50), \"{:.2f}\".format(precision1_50), \"{:.2f}\".format(precision0_50), \"{:.2f}\".format(recall1_50), \"{:.2f}\".format(recall0_50), \"{:.2f}\".format(f11_50), \"{:.2f}\".format(f10_50)]\n",
    "results_df.loc[2] = ['80% на тестирование', \"{:.2f}\".format(accuracy_gaussian_80),\"{:.2f}\".format(precision1_80), \"{:.2f}\".format(precision0_80), \"{:.2f}\".format(recall1_80), \"{:.2f}\".format(recall0_80), \"{:.2f}\".format(f11_80), \"{:.2f}\".format(f10_80)]\n",
    "\n",
    "# Выводим результаты\n",
    "print(results_df)\n",
    "\n",
    "print(\"\")\n",
    "print(\"17.04.2024 23:22\")"
   ]
  },
  {
   "cell_type": "code",
   "execution_count": 19,
   "metadata": {
    "ExecuteTime": {
     "end_time": "2024-05-23T15:26:21.908673Z",
     "start_time": "2024-05-23T15:26:21.895794Z"
    }
   },
   "outputs": [
    {
     "name": "stdout",
     "output_type": "stream",
     "text": [
      "Метрики производительности 08.04.2024 20:08:\n",
      "Accuracy: 0.92\n",
      "Precision_1: 0.60\n",
      "Precision_0: 0.97\n",
      "Recall_1: 0.73\n",
      "Recall_0: 0.95\n",
      "F1_1: 0.66\n",
      "F1_0: 0.96\n"
     ]
    }
   ],
   "source": [
    "# Вывод результатов\n",
    "print(\"Метрики производительности 08.04.2024 20:08:\")\n",
    "print(\"Accuracy:\", \"{:.2f}\".format(accuracy_gaussian))\n",
    "print(\"Precision_1:\", \"{:.2f}\".format(precision1_naive_bayes))\n",
    "print(\"Precision_0:\", \"{:.2f}\".format(precision0_naive_bayes))\n",
    "print(\"Recall_1:\", \"{:.2f}\".format(recall1_naive_bayes))\n",
    "print(\"Recall_0:\", \"{:.2f}\".format(recall0_naive_bayes))\n",
    "print(\"F1_1:\", \"{:.2f}\".format(f11_naive_bayes))\n",
    "print(\"F1_0:\", \"{:.2f}\".format(f10_naive_bayes))"
   ]
  },
  {
   "cell_type": "code",
   "execution_count": 20,
   "metadata": {
    "ExecuteTime": {
     "end_time": "2024-05-23T15:26:22.108991Z",
     "start_time": "2024-05-23T15:26:21.910922Z"
    }
   },
   "outputs": [
    {
     "data": {
      "image/png": "[encoded data removed]",
      "text/plain": [
       "<Figure size 640x480 with 1 Axes>"
      ]
     },
     "metadata": {},
     "output_type": "display_data"
    }
   ],
   "source": [
    "unique_labels_test, counts_test = np.unique(y_test, return_counts=True)\n",
    "unique_labels_pred, counts_pred = np.unique(y_pred_naive_bayes_gaussian, return_counts=True)\n",
    "\n",
    "name = ['1', '2']\n",
    "\n",
    "# Создание подписей для классов\n",
    "labels = ['Обычное', 'Фишинговое']\n",
    "\n",
    "# Создание фигуры и осей\n",
    "fig, ax = plt.subplots()\n",
    "\n",
    "# Ширина столбцов\n",
    "width = 0.35\n",
    "\n",
    "# Создание столбцов для тестовых и предсказанных значений\n",
    "bars1 = ax.bar(np.arange(len(counts_test)) - width/2, counts_test, width, label='Реальные', color='#291048')\n",
    "bars2 = ax.bar(np.arange(len(counts_pred)) + width/2, counts_pred, width, label='Предсказанные', color='#7F26EF')\n",
    "\n",
    "# Добавление значений к столбцам\n",
    "for i, count in enumerate(counts_test):\n",
    "    ax.text(i - width/2, count + 1, str(count), ha='center', va='bottom')\n",
    "\n",
    "for i, count in enumerate(counts_pred):\n",
    "    ax.text(i + width/2, count + 1, str(count), ha='center', va='bottom')\n",
    "\n",
    "# Установка подписей и заголовка\n",
    "ax.set_xticks(np.arange(len(labels)))\n",
    "ax.set_xticklabels(labels)\n",
    "ax.set_title('Распределение реальных и предсказанных результатов')\n",
    "\n",
    "# Добавление легенды\n",
    "ax.legend()\n",
    "\n",
    "# Отображение графика\n",
    "plt.show()\n"
   ]
  },
  {
   "cell_type": "code",
   "execution_count": 21,
   "metadata": {
    "ExecuteTime": {
     "end_time": "2024-05-23T15:26:22.279645Z",
     "start_time": "2024-05-23T15:26:22.112218Z"
    }
   },
   "outputs": [
    {
     "data": {
      "image/png": "[encoded data removed]",
      "text/plain": [
       "<Figure size 800x600 with 1 Axes>"
      ]
     },
     "metadata": {},
     "output_type": "display_data"
    }
   ],
   "source": [
    "# Вычисление матрицы ошибок для модели Naive Bayes\n",
    "conf_matrix_naive_bayes = confusion_matrix(y_test, y_pred_naive_bayes_gaussian)\n",
    "\n",
    "# Создание тепловой карты для матрицы ошибок\n",
    "plt.figure(figsize=(8, 6))\n",
    "sns.heatmap(conf_matrix_naive_bayes, annot=True, cmap='twilight_shifted', fmt='g', cbar=False)\n",
    "\n",
    "# Настройка названий осей и заголовка\n",
    "plt.title('Матрица ошибок для модели Naive Bayes 08.04.2024 20:00')\n",
    "plt.ylabel('Реальные')\n",
    "plt.xlabel('Предсказанные')\n",
    "\n",
    "# Показать график\n",
    "plt.show()"
   ]
  },
  {
   "cell_type": "markdown",
   "metadata": {
    "ExecuteTime": {
     "end_time": "2024-05-15T17:10:28.066591Z",
     "start_time": "2024-05-15T17:10:28.052388Z"
    }
   },
   "source": [
    "# Сравнение Naive Bayes с другими методами"
   ]
  },
  {
   "cell_type": "code",
   "execution_count": 22,
   "metadata": {
    "ExecuteTime": {
     "end_time": "2024-05-23T15:26:22.325783Z",
     "start_time": "2024-05-23T15:26:22.282623Z"
    },
    "collapsed": false
   },
   "outputs": [
    {
     "name": "stdout",
     "output_type": "stream",
     "text": [
      "              Алгоритмы Accuracy Precision_1 Precision_0 Recall_1 Recall_0  \\\n",
      "0           NaiveBayes:     0.92        0.60        0.97     0.73     0.95   \n",
      "1  Logistic Regression:     0.95        0.59        1.00     1.00     0.95   \n",
      "2       Decision Trees:     0.97        0.91        0.98     0.86     0.99   \n",
      "3                  SVM:     0.98        0.88        1.00     0.98     0.98   \n",
      "\n",
      "   F1_1  F1_0  \n",
      "0  0.66  0.96  \n",
      "1  0.74  0.97  \n",
      "2  0.89  0.98  \n",
      "3  0.93  0.99  \n",
      "20.05.2024 23:20\n"
     ]
    }
   ],
   "source": [
    "\n",
    "cm_logistic = confusion_matrix(y_pred_logistic, y_test)\n",
    "\n",
    "FP_logistic = cm_logistic[0, 1]\n",
    "TP_logistic = cm_logistic[1, 1]\n",
    "TN_logistic = cm_logistic[0, 0]\n",
    "FN_logistic = cm_logistic[1, 0]\n",
    "\n",
    "# Вычисление precision\n",
    "precision1_logistic = TP_logistic / (TP_logistic + FP_logistic)\n",
    "precision0_logistic = TN_logistic / (TN_logistic + FN_logistic)\n",
    "\n",
    "# Вычисление recall\n",
    "recall1_logistic = TP_logistic / (TP_logistic + FN_logistic)\n",
    "recall0_logistic = TN_logistic / (TN_logistic + FP_logistic)\n",
    "\n",
    "# Вычисление f1\n",
    "f11_logistic = 2 * precision1_logistic * recall1_logistic / (precision1_logistic + recall1_logistic)\n",
    "f10_logistic =  2 * precision0_logistic * recall0_logistic / (precision0_logistic + recall0_logistic)\n",
    "\n",
    "cm = confusion_matrix(y_pred, y_test)\n",
    "\n",
    "FP = cm[0, 1]\n",
    "TP = cm[1, 1]\n",
    "TN = cm[0, 0]\n",
    "FN = cm[1, 0]\n",
    "\n",
    "# Вычисление precision\n",
    "precision1 = TP / (TP + FP)\n",
    "precision0 = TN / (TN + FN)\n",
    "\n",
    "# Вычисление recall\n",
    "recall1 = TP / (TP + FN)\n",
    "recall0 = TN / (TN + FP)\n",
    "\n",
    "# Вычисление f1\n",
    "f11 = 2 * precision1 * recall1 / (precision1 + recall1)\n",
    "f10 =  2 * precision0 * recall0 / (precision0 + recall0)\n",
    "\n",
    "cm_svm = confusion_matrix(y_pred_svm, y_test)\n",
    "\n",
    "FP_svm = cm_svm[0, 1]\n",
    "TP_svm = cm_svm[1, 1]\n",
    "TN_svm = cm_svm[0, 0]\n",
    "FN_svm = cm_svm[1, 0]\n",
    "\n",
    "# Вычисление precision\n",
    "precision1_svm = TP_svm / (TP_svm + FP_svm)\n",
    "precision0_svm = TN_svm / (TN_svm + FN_svm)\n",
    "\n",
    "# Вычисление recall\n",
    "recall1_svm = TP_svm / (TP_svm + FN_svm)\n",
    "recall0_svm = TN_svm / (TN_svm + FP_svm)\n",
    "\n",
    "# Вычисление f1\n",
    "f11_svm = 2 * precision1_svm * recall1_svm / (precision1_svm + recall1_svm)\n",
    "f10_svm =  2 * precision0_svm * recall0_svm / (precision0_svm + recall0_svm)\n",
    "\n",
    "results_df = pd.DataFrame(columns=['Алгоритмы', 'Accuracy', 'Precision_1', 'Precision_0', 'Recall_1', 'Recall_0', 'F1_1', 'F1_0'])\n",
    "\n",
    "\n",
    "results_df.loc[0] = ['NaiveBayes:', \"{:.2f}\".format(accuracy_gaussian), \"{:.2f}\".format(precision1_naive_bayes),\"{:.2f}\".format(precision0_naive_bayes), \"{:.2f}\".format(recall1_naive_bayes), \"{:.2f}\".format(recall0_naive_bayes), \"{:.2f}\".format(f11_naive_bayes), \"{:.2f}\".format(f10_naive_bayes)]\n",
    "results_df.loc[1] = ['Logistic Regression:', \"{:.2f}\".format(accuracy_logistic), \"{:.2f}\".format(precision1_logistic),\"{:.2f}\".format(precision0_logistic), \"{:.2f}\".format(recall1_logistic), \"{:.2f}\".format(recall0_logistic), \"{:.2f}\".format(f11_logistic), \"{:.2f}\".format(f10_logistic)]\n",
    "results_df.loc[2] = ['Decision Trees:', \"{:.2f}\".format(accuracy), \"{:.2f}\".format(precision1),\"{:.2f}\".format(precision0), \"{:.2f}\".format(recall1), \"{:.2f}\".format(recall0),  \"{:.2f}\".format(f11), \"{:.2f}\".format(f10)]\n",
    "results_df.loc[3] = ['SVM:', \"{:.2f}\".format(accuracy_svm), \"{:.2f}\".format(precision1_svm),\"{:.2f}\".format(precision0_svm), \"{:.2f}\".format(recall1_svm), \"{:.2f}\".format(recall0_svm), \"{:.2f}\".format(f11_svm), \"{:.2f}\".format(f10_svm)]\n",
    "\n",
    "# Выводим результаты\n",
    "print(results_df)\n",
    "\n",
    "print(\"20.05.2024 23:20\")"
   ]
  },
  {
   "cell_type": "code",
   "execution_count": null,
   "metadata": {
    "ExecuteTime": {
     "end_time": "2024-05-23T15:26:22.341805Z",
     "start_time": "2024-05-23T15:26:22.327776Z"
    },
    "collapsed": false
   },
   "outputs": [],
   "source": []
  }
 ],
 "metadata": {
  "kernelspec": {
   "display_name": "base",
   "language": "python",
   "name": "python3"
  },
  "language_info": {
   "codemirror_mode": {
    "name": "ipython",
    "version": 3
   },
   "file_extension": ".py",
   "mimetype": "text/x-python",
   "name": "python",
   "nbconvert_exporter": "python",
   "pygments_lexer": "ipython3",
   "version": "3.10.9"
  }
 },
 "nbformat": 4,
 "nbformat_minor": 2
}
